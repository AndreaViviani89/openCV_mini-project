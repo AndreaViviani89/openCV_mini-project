{
 "cells": [
  {
   "cell_type": "code",
   "execution_count": 1,
   "metadata": {},
   "outputs": [],
   "source": [
    "import cv2\n",
    "import matplotlib.pyplot as plt\n",
    "import numpy as np"
   ]
  },
  {
   "cell_type": "code",
   "execution_count": 4,
   "metadata": {},
   "outputs": [
    {
     "data": {
      "text/plain": [
       "<matplotlib.image.AxesImage at 0x1fd71dd8100>"
      ]
     },
     "execution_count": 4,
     "metadata": {},
     "output_type": "execute_result"
    },
    {
     "data": {
      "image/png": "[encoded data removed]",
      "text/plain": [
       "<Figure size 864x576 with 1 Axes>"
      ]
     },
     "metadata": {
      "needs_background": "light"
     },
     "output_type": "display_data"
    }
   ],
   "source": [
    "qr_img = cv2.imread('qr.PNG')\n",
    "plt.figure(figsize=(12, 8))\n",
    "plt.imshow(qr_img)"
   ]
  },
  {
   "cell_type": "code",
   "execution_count": 5,
   "metadata": {},
   "outputs": [],
   "source": [
    "decoder = cv2.QRCodeDetector()\n",
    "\n",
    "data, points, _ = decoder.detectAndDecode(qr_img)"
   ]
  },
  {
   "cell_type": "code",
   "execution_count": 6,
   "metadata": {},
   "outputs": [
    {
     "name": "stdout",
     "output_type": "stream",
     "text": [
      "Decoded data: http://it.m.wikipedia.org/wiki/Pagina_principale\n"
     ]
    }
   ],
   "source": [
    "if points is not None:\n",
    "    print('Decoded data: ' + data)\n",
    "    points = points[0]\n",
    "    for i in range(len(points)):\n",
    "        pt1 = [int(val) for val in points[i]]\n",
    "        pt2 = [int(val) for val in points[(i + 1) % 4]]\n",
    "        cv2.line(qr_img, pt1, pt2, color=(0, 255,0), thickness=3)\n",
    " \n",
    "cv2.imshow('Detected QR code', qr_img)\n",
    "cv2.waitKey(0)\n",
    "cv2.destroyAllWindows()"
   ]
  },
  {
   "cell_type": "code",
   "execution_count": 3,
   "metadata": {},
   "outputs": [
    {
     "name": "stdout",
     "output_type": "stream",
     "text": [
      "QR DETECTED\n",
      "http://it.m.wikipedia.org/wiki/Pagina_principale\n"
     ]
    }
   ],
   "source": [
    "image = cv2.imread('qr.PNG')\n",
    "\n",
    "copy_image = image.copy()\n",
    "\n",
    "qrcode_reader = cv2.QRCodeDetector()\n",
    "\n",
    "retval, points, straight_qrcode = qrcode_reader.detectAndDecode(copy_image)\n",
    "\n",
    "if len(retval)>0:\n",
    "    print(\"QR DETECTED\")\n",
    "    print(retval)\n",
    "\n",
    "select_qrcode = cv2.rectangle(copy_image,tuple(points[0][0].astype(int)), tuple(points[0][2].astype(int)),(0,0,255),4)\n",
    "\n",
    "cv2.imshow('indicate_qrcode', copy_image)\n",
    "cv2.waitKey(0)\n",
    "cv2.destroyAllWindows()\n",
    "    "
   ]
  }
 ],
 "metadata": {
  "interpreter": {
   "hash": "56fe903d9fc938422d59b01c1d4aeab74663ce3bca5439e9fbb7e5aa656d73c8"
  },
  "kernelspec": {
   "display_name": "Python 3.9.12 ('OCV')",
   "language": "python",
   "name": "python3"
  },
  "language_info": {
   "codemirror_mode": {
    "name": "ipython",
    "version": 3
   },
   "file_extension": ".py",
   "mimetype": "text/x-python",
   "name": "python",
   "nbconvert_exporter": "python",
   "pygments_lexer": "ipython3",
   "version": "3.9.12"
  },
  "orig_nbformat": 4
 },
 "nbformat": 4,
 "nbformat_minor": 2
}
